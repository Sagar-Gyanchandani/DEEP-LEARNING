{
 "cells": [
  {
   "cell_type": "markdown",
   "metadata": {
    "colab_type": "text",
    "id": "3DR-eO17geWu"
   },
   "source": [
    "# Convolutional Neural Network"
   ]
  },
  {
   "cell_type": "markdown",
   "metadata": {
    "colab_type": "text",
    "id": "EMefrVPCg-60"
   },
   "source": [
    "### Importing the libraries"
   ]
  },
  {
   "cell_type": "code",
   "execution_count": 1,
   "metadata": {},
   "outputs": [
    {
     "name": "stderr",
     "output_type": "stream",
     "text": [
      "Using TensorFlow backend.\n"
     ]
    }
   ],
   "source": [
    "import tensorflow as tf\n",
    "from keras.preprocessing.image import ImageDataGenerator"
   ]
  },
  {
   "cell_type": "code",
   "execution_count": 2,
   "metadata": {},
   "outputs": [
    {
     "data": {
      "text/plain": [
       "'2.2.0'"
      ]
     },
     "execution_count": 2,
     "metadata": {},
     "output_type": "execute_result"
    }
   ],
   "source": [
    "tf.__version__"
   ]
  },
  {
   "cell_type": "markdown",
   "metadata": {
    "colab_type": "text",
    "id": "oxQxCBWyoGPE"
   },
   "source": [
    "## Part 1 - Data Preprocessing"
   ]
  },
  {
   "cell_type": "markdown",
   "metadata": {
    "colab_type": "text",
    "id": "MvE-heJNo3GG"
   },
   "source": [
    "### Preprocessing the Training set"
   ]
  },
  {
   "cell_type": "code",
   "execution_count": 3,
   "metadata": {},
   "outputs": [
    {
     "name": "stdout",
     "output_type": "stream",
     "text": [
      "Found 8000 images belonging to 2 classes.\n"
     ]
    }
   ],
   "source": [
    "train_datagen = ImageDataGenerator(\n",
    "    rescale=1./255,\n",
    "    shear_range=0.2,\n",
    "    zoom_range=0.2,\n",
    "    horizontal_flip=True)\n",
    "\n",
    "training_set = train_datagen.flow_from_directory(\n",
    "    'dataset/training_set',\n",
    "    target_size = (64,64),\n",
    "    batch_size=32,\n",
    "    class_mode='binary')"
   ]
  },
  {
   "cell_type": "markdown",
   "metadata": {
    "colab_type": "text",
    "id": "mrCMmGw9pHys"
   },
   "source": [
    "### Preprocessing the Test set"
   ]
  },
  {
   "cell_type": "code",
   "execution_count": 4,
   "metadata": {},
   "outputs": [
    {
     "name": "stdout",
     "output_type": "stream",
     "text": [
      "Found 2000 images belonging to 2 classes.\n"
     ]
    }
   ],
   "source": [
    "test_datagen = ImageDataGenerator(rescale=1./255)\n",
    "\n",
    "test_set = test_datagen.flow_from_directory(\n",
    "    'dataset/test_set',\n",
    "    target_size = (64,64),\n",
    "    batch_size=32,\n",
    "    class_mode='binary')"
   ]
  },
  {
   "cell_type": "markdown",
   "metadata": {
    "colab_type": "text",
    "id": "af8O4l90gk7B"
   },
   "source": [
    "## Part 2 - Building the CNN"
   ]
  },
  {
   "cell_type": "markdown",
   "metadata": {
    "colab_type": "text",
    "id": "ces1gXY2lmoX"
   },
   "source": [
    "### Initialising the CNN"
   ]
  },
  {
   "cell_type": "code",
   "execution_count": 5,
   "metadata": {},
   "outputs": [],
   "source": [
    "cnn = tf.keras.models.Sequential()"
   ]
  },
  {
   "cell_type": "markdown",
   "metadata": {
    "colab_type": "text",
    "id": "u5YJj_XMl5LF"
   },
   "source": [
    "### Step 1 - Convolution"
   ]
  },
  {
   "cell_type": "code",
   "execution_count": 6,
   "metadata": {},
   "outputs": [],
   "source": [
    "cnn.add(tf.keras.layers.Conv2D(filters=32, kernel_size=3, activation='relu', input_shape=[64,64,3]))"
   ]
  },
  {
   "cell_type": "markdown",
   "metadata": {
    "colab_type": "text",
    "id": "tf87FpvxmNOJ"
   },
   "source": [
    "### Step 2 - Pooling"
   ]
  },
  {
   "cell_type": "code",
   "execution_count": 7,
   "metadata": {},
   "outputs": [],
   "source": [
    "cnn.add(tf.keras.layers.MaxPool2D(pool_size=2, strides=2))"
   ]
  },
  {
   "cell_type": "markdown",
   "metadata": {
    "colab_type": "text",
    "id": "xaTOgD8rm4mU"
   },
   "source": [
    "### Adding a second convolutional layer"
   ]
  },
  {
   "cell_type": "code",
   "execution_count": 8,
   "metadata": {},
   "outputs": [],
   "source": [
    "cnn.add(tf.keras.layers.Conv2D(filters=32, kernel_size=3, activation='relu'))\n",
    "cnn.add(tf.keras.layers.MaxPool2D(pool_size=2, strides=2))"
   ]
  },
  {
   "cell_type": "markdown",
   "metadata": {
    "colab_type": "text",
    "id": "tmiEuvTunKfk"
   },
   "source": [
    "### Step 3 - Flattening"
   ]
  },
  {
   "cell_type": "code",
   "execution_count": 9,
   "metadata": {},
   "outputs": [],
   "source": [
    "cnn.add(tf.keras.layers.Flatten())"
   ]
  },
  {
   "cell_type": "markdown",
   "metadata": {
    "colab_type": "text",
    "id": "dAoSECOm203v"
   },
   "source": [
    "### Step 4 - Full Connection"
   ]
  },
  {
   "cell_type": "code",
   "execution_count": 10,
   "metadata": {},
   "outputs": [],
   "source": [
    "cnn.add(tf.keras.layers.Dense(units=128, activation='relu'))"
   ]
  },
  {
   "cell_type": "markdown",
   "metadata": {
    "colab_type": "text",
    "id": "yTldFvbX28Na"
   },
   "source": [
    "### Step 5 - Output Layer"
   ]
  },
  {
   "cell_type": "code",
   "execution_count": 11,
   "metadata": {},
   "outputs": [],
   "source": [
    "cnn.add(tf.keras.layers.Dense(units=1, activation='sigmoid'))"
   ]
  },
  {
   "cell_type": "markdown",
   "metadata": {
    "colab_type": "text",
    "id": "D6XkI90snSDl"
   },
   "source": [
    "## Part 3 - Training the CNN"
   ]
  },
  {
   "cell_type": "markdown",
   "metadata": {
    "colab_type": "text",
    "id": "vfrFQACEnc6i"
   },
   "source": [
    "### Compiling the CNN"
   ]
  },
  {
   "cell_type": "code",
   "execution_count": 12,
   "metadata": {},
   "outputs": [],
   "source": [
    "cnn.compile(optimizer='adam', loss='binary_crossentropy', metrics=['accuracy'])"
   ]
  },
  {
   "cell_type": "markdown",
   "metadata": {
    "colab_type": "text",
    "id": "ehS-v3MIpX2h"
   },
   "source": [
    "### Training the CNN on the Training set and evaluating it on the Test set"
   ]
  },
  {
   "cell_type": "code",
   "execution_count": 13,
   "metadata": {},
   "outputs": [
    {
     "name": "stdout",
     "output_type": "stream",
     "text": [
      "Epoch 1/25\n",
      "250/250 [==============================] - 158s 630ms/step - loss: 0.6824 - accuracy: 0.5710 - val_loss: 0.6394 - val_accuracy: 0.6195\n",
      "Epoch 2/25\n",
      "250/250 [==============================] - 52s 210ms/step - loss: 0.6191 - accuracy: 0.6624 - val_loss: 0.5714 - val_accuracy: 0.7065\n",
      "Epoch 3/25\n",
      "250/250 [==============================] - 54s 217ms/step - loss: 0.5765 - accuracy: 0.6944 - val_loss: 0.5515 - val_accuracy: 0.7210\n",
      "Epoch 4/25\n",
      "250/250 [==============================] - 54s 216ms/step - loss: 0.5371 - accuracy: 0.7326 - val_loss: 0.5232 - val_accuracy: 0.7410\n",
      "Epoch 5/25\n",
      "250/250 [==============================] - 55s 221ms/step - loss: 0.5113 - accuracy: 0.7437 - val_loss: 0.5569 - val_accuracy: 0.7325\n",
      "Epoch 6/25\n",
      "250/250 [==============================] - 52s 209ms/step - loss: 0.4978 - accuracy: 0.7571 - val_loss: 0.4785 - val_accuracy: 0.7740\n",
      "Epoch 7/25\n",
      "250/250 [==============================] - 49s 196ms/step - loss: 0.4780 - accuracy: 0.7670 - val_loss: 0.4837 - val_accuracy: 0.7695\n",
      "Epoch 8/25\n",
      "250/250 [==============================] - 50s 201ms/step - loss: 0.4617 - accuracy: 0.7760 - val_loss: 0.4806 - val_accuracy: 0.7820\n",
      "Epoch 9/25\n",
      "250/250 [==============================] - 60s 238ms/step - loss: 0.4484 - accuracy: 0.7887 - val_loss: 0.4565 - val_accuracy: 0.7830\n",
      "Epoch 10/25\n",
      "250/250 [==============================] - 60s 240ms/step - loss: 0.4319 - accuracy: 0.7976 - val_loss: 0.4540 - val_accuracy: 0.7840\n",
      "Epoch 11/25\n",
      "250/250 [==============================] - 53s 212ms/step - loss: 0.4162 - accuracy: 0.8064 - val_loss: 0.4450 - val_accuracy: 0.8015\n",
      "Epoch 12/25\n",
      "250/250 [==============================] - 55s 221ms/step - loss: 0.4054 - accuracy: 0.8170 - val_loss: 0.4451 - val_accuracy: 0.7830\n",
      "Epoch 13/25\n",
      "250/250 [==============================] - 52s 207ms/step - loss: 0.3931 - accuracy: 0.8229 - val_loss: 0.4510 - val_accuracy: 0.8135\n",
      "Epoch 14/25\n",
      "250/250 [==============================] - 52s 209ms/step - loss: 0.3788 - accuracy: 0.8244 - val_loss: 0.4532 - val_accuracy: 0.7850\n",
      "Epoch 15/25\n",
      "250/250 [==============================] - 54s 216ms/step - loss: 0.3673 - accuracy: 0.8322 - val_loss: 0.4383 - val_accuracy: 0.8030\n",
      "Epoch 16/25\n",
      "250/250 [==============================] - 53s 211ms/step - loss: 0.3477 - accuracy: 0.8462 - val_loss: 0.4989 - val_accuracy: 0.7825\n",
      "Epoch 17/25\n",
      "250/250 [==============================] - 52s 209ms/step - loss: 0.3505 - accuracy: 0.8426 - val_loss: 0.4240 - val_accuracy: 0.8155\n",
      "Epoch 18/25\n",
      "250/250 [==============================] - 50s 198ms/step - loss: 0.3344 - accuracy: 0.8539 - val_loss: 0.4501 - val_accuracy: 0.8035\n",
      "Epoch 19/25\n",
      "250/250 [==============================] - 50s 200ms/step - loss: 0.3142 - accuracy: 0.8636 - val_loss: 0.4680 - val_accuracy: 0.8040\n",
      "Epoch 20/25\n",
      "250/250 [==============================] - 50s 199ms/step - loss: 0.2991 - accuracy: 0.8704 - val_loss: 0.4563 - val_accuracy: 0.8095\n",
      "Epoch 21/25\n",
      "250/250 [==============================] - 50s 199ms/step - loss: 0.2948 - accuracy: 0.8750 - val_loss: 0.4715 - val_accuracy: 0.7925\n",
      "Epoch 22/25\n",
      "250/250 [==============================] - 49s 197ms/step - loss: 0.2721 - accuracy: 0.8821 - val_loss: 0.4596 - val_accuracy: 0.8110\n",
      "Epoch 23/25\n",
      "250/250 [==============================] - 49s 197ms/step - loss: 0.2598 - accuracy: 0.8892 - val_loss: 0.4626 - val_accuracy: 0.8165\n",
      "Epoch 24/25\n",
      "250/250 [==============================] - 49s 195ms/step - loss: 0.2558 - accuracy: 0.8939 - val_loss: 0.4836 - val_accuracy: 0.8150\n",
      "Epoch 25/25\n",
      "250/250 [==============================] - 45s 180ms/step - loss: 0.2385 - accuracy: 0.9011 - val_loss: 0.4524 - val_accuracy: 0.8275\n"
     ]
    },
    {
     "data": {
      "text/plain": [
       "<tensorflow.python.keras.callbacks.History at 0x1663c089780>"
      ]
     },
     "execution_count": 13,
     "metadata": {},
     "output_type": "execute_result"
    }
   ],
   "source": [
    "cnn.fit(x=training_set, validation_data=test_set, epochs=25)"
   ]
  },
  {
   "cell_type": "markdown",
   "metadata": {
    "colab_type": "text",
    "id": "U3PZasO0006Z"
   },
   "source": [
    "## Part 4 - Making a single prediction"
   ]
  },
  {
   "cell_type": "code",
   "execution_count": 15,
   "metadata": {},
   "outputs": [],
   "source": [
    "import numpy as np\n",
    "from keras.preprocessing import image\n",
    "\n",
    "test_image = image.load_img('dataset/single_prediction/cat_or_dog_1.jpg', target_size=(64,64))\n",
    "test_image = image.img_to_array(test_image)\n",
    "test_image = np.expand_dims(test_image, axis=0)\n",
    "result = cnn.predict(test_image)\n",
    "training_set.class_indices\n",
    "if result[0][0] == 1:\n",
    "    prediction = 'dog'\n",
    "else:\n",
    "    prediction = 'cat'"
   ]
  },
  {
   "cell_type": "code",
   "execution_count": 16,
   "metadata": {},
   "outputs": [
    {
     "name": "stdout",
     "output_type": "stream",
     "text": [
      "dog\n"
     ]
    }
   ],
   "source": [
    "print(prediction)"
   ]
  }
 ],
 "metadata": {
  "colab": {
   "collapsed_sections": [],
   "name": "convolutional_neural_network.ipynb",
   "provenance": [],
   "toc_visible": true
  },
  "kernelspec": {
   "display_name": "Python 3",
   "language": "python",
   "name": "python3"
  },
  "language_info": {
   "codemirror_mode": {
    "name": "ipython",
    "version": 3
   },
   "file_extension": ".py",
   "mimetype": "text/x-python",
   "name": "python",
   "nbconvert_exporter": "python",
   "pygments_lexer": "ipython3",
   "version": "3.7.3"
  }
 },
 "nbformat": 4,
 "nbformat_minor": 1
}
